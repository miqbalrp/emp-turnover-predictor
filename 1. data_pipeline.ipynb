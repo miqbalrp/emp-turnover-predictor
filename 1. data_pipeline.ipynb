{
 "cells": [
  {
   "cell_type": "code",
   "execution_count": 1,
   "metadata": {},
   "outputs": [],
   "source": [
    "import pandas as pd\n",
    "import numpy as np\n",
    "import yaml\n",
    "import os\n",
    "import tqdm\n",
    "import src.util as util\n",
    "\n",
    "from sklearn.model_selection import train_test_split"
   ]
  },
  {
   "cell_type": "markdown",
   "metadata": {},
   "source": [
    "# 1. Load config data"
   ]
  },
  {
   "cell_type": "code",
   "execution_count": 2,
   "metadata": {},
   "outputs": [],
   "source": [
    "config_data = util.load_config()"
   ]
  },
  {
   "cell_type": "markdown",
   "metadata": {},
   "source": [
    "# 2. Load raw data"
   ]
  },
  {
   "cell_type": "code",
   "execution_count": 3,
   "metadata": {},
   "outputs": [],
   "source": [
    "def read_raw_data(config: dict) -> pd.DataFrame:\n",
    "    raw_data_path = config['raw_dataset_path']\n",
    "    selected_columns = config['int64_columns'] + config['object_columns']\n",
    "    df = pd.read_csv(raw_data_path)[selected_columns]\n",
    "    return df"
   ]
  },
  {
   "cell_type": "code",
   "execution_count": 4,
   "metadata": {},
   "outputs": [
    {
     "name": "stdout",
     "output_type": "stream",
     "text": [
      "<class 'pandas.core.frame.DataFrame'>\n",
      "RangeIndex: 1470 entries, 0 to 1469\n",
      "Data columns (total 18 columns):\n",
      " #   Column                   Non-Null Count  Dtype \n",
      "---  ------                   --------------  ----- \n",
      " 0   JobLevel                 1470 non-null   int64 \n",
      " 1   Age                      1470 non-null   int64 \n",
      " 2   DistanceFromHome         1470 non-null   int64 \n",
      " 3   YearsAtCompany           1470 non-null   int64 \n",
      " 4   YearsInCurrentRole       1470 non-null   int64 \n",
      " 5   YearsSinceLastPromotion  1470 non-null   int64 \n",
      " 6   YearsWithCurrManager     1470 non-null   int64 \n",
      " 7   MonthlyIncome            1470 non-null   int64 \n",
      " 8   MonthlyRate              1470 non-null   int64 \n",
      " 9   EnvironmentSatisfaction  1470 non-null   int64 \n",
      " 10  JobSatisfaction          1470 non-null   int64 \n",
      " 11  WorkLifeBalance          1470 non-null   int64 \n",
      " 12  PerformanceRating        1470 non-null   int64 \n",
      " 13  Attrition                1470 non-null   object\n",
      " 14  Department               1470 non-null   object\n",
      " 15  JobRole                  1470 non-null   object\n",
      " 16  Gender                   1470 non-null   object\n",
      " 17  OverTime                 1470 non-null   object\n",
      "dtypes: int64(13), object(5)\n",
      "memory usage: 206.8+ KB\n"
     ]
    }
   ],
   "source": [
    "raw_dataset = read_raw_data(config_data)\n",
    "raw_dataset.info(10)"
   ]
  },
  {
   "cell_type": "code",
   "execution_count": 5,
   "metadata": {},
   "outputs": [],
   "source": [
    "# Save raw dataset to file\n",
    "util.pickle_dump(raw_dataset, config_data[\"raw_dataset_collected_path\"])"
   ]
  },
  {
   "cell_type": "markdown",
   "metadata": {},
   "source": [
    "# 3. Data Definition"
   ]
  },
  {
   "cell_type": "markdown",
   "metadata": {},
   "source": [
    "To simplify the project, we have selected several attributes to be included:\n",
    "\n",
    "Target:\n",
    "1. Attrition: This is a binary variable indicating whether the employee has left the company or not. This is the primary target variable for most analyses using this dataset.\n",
    "\n",
    "\n",
    "Employee’s basic information:\n",
    "1. Department: This categorical variable represents the department in which an employee works, such as 'Sales', 'Research & Development', or 'Human Resources'.\n",
    "2. JobRole: This categorical variable indicates the role of the employee within the company.\n",
    "3. JobLevel: This is an ordinal variable that represents the level of job held by the employee, where a higher number indicates a more senior role.\n",
    "4. Gender: This categorical variable indicates the gender of the employee.\n",
    "5. Age: This is the age of the employee, measured in years.\n",
    "\n",
    "\n",
    "Employee’s work experience and income:\n",
    "1. YearsAtCompany: This is the number of years an employee has worked at the current company.\n",
    "2. YearsInCurrentRole: This is the number of years an employee has been in their current role within the company.\n",
    "3. YearsSinceLastPromotion: This is the number of years since the employee's last promotion.\n",
    "4. YearsWithCurrManager: This is the number of years an employee has been with their current manager.\n",
    "5. MonthlyIncome: This is the monthly income of the employee.\n",
    "\n",
    "\n",
    "Employee’s satisfaction and performance rating:\n",
    "1. EnvironmentSatisfaction: This ordinal variable reflects the employee's satisfaction with the work environment, where 1 'Low', 2 'Medium', 3 'High', and 4 'Very High'.\n",
    "2. JobSatisfaction: This ordinal variable reflects the employee's satisfaction with their job, where 1 'Low', 2 'Medium', 3 'High', and 4 'Very High'.\n",
    "3. WorkLifeBalance: This ordinal variable reflects the employee's work-life balance, where 1 'Bad', 2 'Good', 3 'Better', and 4 'Best'.\n",
    "4. PerformanceRating: This ordinal variable reflects the employee's performance rating, where 1 'Low', 2 'Good', 3 'Excellent', and 4 'Outstanding'.\n"
   ]
  },
  {
   "cell_type": "markdown",
   "metadata": {},
   "source": [
    "# 4. Data Validation"
   ]
  },
  {
   "cell_type": "code",
   "execution_count": 6,
   "metadata": {},
   "outputs": [
    {
     "name": "stdout",
     "output_type": "stream",
     "text": [
      "Rows : 1470\n",
      "Cols : 18\n",
      "\n",
      "Columns types:\n",
      "<class 'pandas.core.frame.DataFrame'>\n",
      "RangeIndex: 1470 entries, 0 to 1469\n",
      "Data columns (total 18 columns):\n",
      " #   Column                   Non-Null Count  Dtype \n",
      "---  ------                   --------------  ----- \n",
      " 0   JobLevel                 1470 non-null   int64 \n",
      " 1   Age                      1470 non-null   int64 \n",
      " 2   DistanceFromHome         1470 non-null   int64 \n",
      " 3   YearsAtCompany           1470 non-null   int64 \n",
      " 4   YearsInCurrentRole       1470 non-null   int64 \n",
      " 5   YearsSinceLastPromotion  1470 non-null   int64 \n",
      " 6   YearsWithCurrManager     1470 non-null   int64 \n",
      " 7   MonthlyIncome            1470 non-null   int64 \n",
      " 8   MonthlyRate              1470 non-null   int64 \n",
      " 9   EnvironmentSatisfaction  1470 non-null   int64 \n",
      " 10  JobSatisfaction          1470 non-null   int64 \n",
      " 11  WorkLifeBalance          1470 non-null   int64 \n",
      " 12  PerformanceRating        1470 non-null   int64 \n",
      " 13  Attrition                1470 non-null   object\n",
      " 14  Department               1470 non-null   object\n",
      " 15  JobRole                  1470 non-null   object\n",
      " 16  Gender                   1470 non-null   object\n",
      " 17  OverTime                 1470 non-null   object\n",
      "dtypes: int64(13), object(5)\n",
      "memory usage: 206.8+ KB\n"
     ]
    },
    {
     "data": {
      "text/plain": [
       "None"
      ]
     },
     "metadata": {},
     "output_type": "display_data"
    }
   ],
   "source": [
    "# Check data dimension\n",
    "print(f'Rows : {raw_dataset.shape[0]}')\n",
    "print(f'Cols : {raw_dataset.shape[1]}')\n",
    "\n",
    "# Check data type each variable\n",
    "print('\\nColumns types:')\n",
    "display(raw_dataset.info())"
   ]
  },
  {
   "cell_type": "code",
   "execution_count": 7,
   "metadata": {},
   "outputs": [
    {
     "data": {
      "text/html": [
       "<div>\n",
       "<style scoped>\n",
       "    .dataframe tbody tr th:only-of-type {\n",
       "        vertical-align: middle;\n",
       "    }\n",
       "\n",
       "    .dataframe tbody tr th {\n",
       "        vertical-align: top;\n",
       "    }\n",
       "\n",
       "    .dataframe thead th {\n",
       "        text-align: right;\n",
       "    }\n",
       "</style>\n",
       "<table border=\"1\" class=\"dataframe\">\n",
       "  <thead>\n",
       "    <tr style=\"text-align: right;\">\n",
       "      <th></th>\n",
       "      <th>JobLevel</th>\n",
       "      <th>Age</th>\n",
       "      <th>DistanceFromHome</th>\n",
       "      <th>YearsAtCompany</th>\n",
       "      <th>YearsInCurrentRole</th>\n",
       "      <th>YearsSinceLastPromotion</th>\n",
       "      <th>YearsWithCurrManager</th>\n",
       "      <th>MonthlyIncome</th>\n",
       "      <th>MonthlyRate</th>\n",
       "      <th>EnvironmentSatisfaction</th>\n",
       "      <th>JobSatisfaction</th>\n",
       "      <th>WorkLifeBalance</th>\n",
       "      <th>PerformanceRating</th>\n",
       "    </tr>\n",
       "  </thead>\n",
       "  <tbody>\n",
       "    <tr>\n",
       "      <th>count</th>\n",
       "      <td>1470.000000</td>\n",
       "      <td>1470.000000</td>\n",
       "      <td>1470.000000</td>\n",
       "      <td>1470.000000</td>\n",
       "      <td>1470.000000</td>\n",
       "      <td>1470.000000</td>\n",
       "      <td>1470.000000</td>\n",
       "      <td>1470.000000</td>\n",
       "      <td>1470.000000</td>\n",
       "      <td>1470.000000</td>\n",
       "      <td>1470.000000</td>\n",
       "      <td>1470.000000</td>\n",
       "      <td>1470.000000</td>\n",
       "    </tr>\n",
       "    <tr>\n",
       "      <th>mean</th>\n",
       "      <td>2.063946</td>\n",
       "      <td>36.923810</td>\n",
       "      <td>9.192517</td>\n",
       "      <td>7.008163</td>\n",
       "      <td>4.229252</td>\n",
       "      <td>2.187755</td>\n",
       "      <td>4.123129</td>\n",
       "      <td>6502.931293</td>\n",
       "      <td>14313.103401</td>\n",
       "      <td>2.721769</td>\n",
       "      <td>2.728571</td>\n",
       "      <td>2.761224</td>\n",
       "      <td>3.153741</td>\n",
       "    </tr>\n",
       "    <tr>\n",
       "      <th>std</th>\n",
       "      <td>1.106940</td>\n",
       "      <td>9.135373</td>\n",
       "      <td>8.106864</td>\n",
       "      <td>6.126525</td>\n",
       "      <td>3.623137</td>\n",
       "      <td>3.222430</td>\n",
       "      <td>3.568136</td>\n",
       "      <td>4707.956783</td>\n",
       "      <td>7117.786044</td>\n",
       "      <td>1.093082</td>\n",
       "      <td>1.102846</td>\n",
       "      <td>0.706476</td>\n",
       "      <td>0.360824</td>\n",
       "    </tr>\n",
       "    <tr>\n",
       "      <th>min</th>\n",
       "      <td>1.000000</td>\n",
       "      <td>18.000000</td>\n",
       "      <td>1.000000</td>\n",
       "      <td>0.000000</td>\n",
       "      <td>0.000000</td>\n",
       "      <td>0.000000</td>\n",
       "      <td>0.000000</td>\n",
       "      <td>1009.000000</td>\n",
       "      <td>2094.000000</td>\n",
       "      <td>1.000000</td>\n",
       "      <td>1.000000</td>\n",
       "      <td>1.000000</td>\n",
       "      <td>3.000000</td>\n",
       "    </tr>\n",
       "    <tr>\n",
       "      <th>25%</th>\n",
       "      <td>1.000000</td>\n",
       "      <td>30.000000</td>\n",
       "      <td>2.000000</td>\n",
       "      <td>3.000000</td>\n",
       "      <td>2.000000</td>\n",
       "      <td>0.000000</td>\n",
       "      <td>2.000000</td>\n",
       "      <td>2911.000000</td>\n",
       "      <td>8047.000000</td>\n",
       "      <td>2.000000</td>\n",
       "      <td>2.000000</td>\n",
       "      <td>2.000000</td>\n",
       "      <td>3.000000</td>\n",
       "    </tr>\n",
       "    <tr>\n",
       "      <th>50%</th>\n",
       "      <td>2.000000</td>\n",
       "      <td>36.000000</td>\n",
       "      <td>7.000000</td>\n",
       "      <td>5.000000</td>\n",
       "      <td>3.000000</td>\n",
       "      <td>1.000000</td>\n",
       "      <td>3.000000</td>\n",
       "      <td>4919.000000</td>\n",
       "      <td>14235.500000</td>\n",
       "      <td>3.000000</td>\n",
       "      <td>3.000000</td>\n",
       "      <td>3.000000</td>\n",
       "      <td>3.000000</td>\n",
       "    </tr>\n",
       "    <tr>\n",
       "      <th>75%</th>\n",
       "      <td>3.000000</td>\n",
       "      <td>43.000000</td>\n",
       "      <td>14.000000</td>\n",
       "      <td>9.000000</td>\n",
       "      <td>7.000000</td>\n",
       "      <td>3.000000</td>\n",
       "      <td>7.000000</td>\n",
       "      <td>8379.000000</td>\n",
       "      <td>20461.500000</td>\n",
       "      <td>4.000000</td>\n",
       "      <td>4.000000</td>\n",
       "      <td>3.000000</td>\n",
       "      <td>3.000000</td>\n",
       "    </tr>\n",
       "    <tr>\n",
       "      <th>max</th>\n",
       "      <td>5.000000</td>\n",
       "      <td>60.000000</td>\n",
       "      <td>29.000000</td>\n",
       "      <td>40.000000</td>\n",
       "      <td>18.000000</td>\n",
       "      <td>15.000000</td>\n",
       "      <td>17.000000</td>\n",
       "      <td>19999.000000</td>\n",
       "      <td>26999.000000</td>\n",
       "      <td>4.000000</td>\n",
       "      <td>4.000000</td>\n",
       "      <td>4.000000</td>\n",
       "      <td>4.000000</td>\n",
       "    </tr>\n",
       "  </tbody>\n",
       "</table>\n",
       "</div>"
      ],
      "text/plain": [
       "          JobLevel          Age  DistanceFromHome  YearsAtCompany  \\\n",
       "count  1470.000000  1470.000000       1470.000000     1470.000000   \n",
       "mean      2.063946    36.923810          9.192517        7.008163   \n",
       "std       1.106940     9.135373          8.106864        6.126525   \n",
       "min       1.000000    18.000000          1.000000        0.000000   \n",
       "25%       1.000000    30.000000          2.000000        3.000000   \n",
       "50%       2.000000    36.000000          7.000000        5.000000   \n",
       "75%       3.000000    43.000000         14.000000        9.000000   \n",
       "max       5.000000    60.000000         29.000000       40.000000   \n",
       "\n",
       "       YearsInCurrentRole  YearsSinceLastPromotion  YearsWithCurrManager  \\\n",
       "count         1470.000000              1470.000000           1470.000000   \n",
       "mean             4.229252                 2.187755              4.123129   \n",
       "std              3.623137                 3.222430              3.568136   \n",
       "min              0.000000                 0.000000              0.000000   \n",
       "25%              2.000000                 0.000000              2.000000   \n",
       "50%              3.000000                 1.000000              3.000000   \n",
       "75%              7.000000                 3.000000              7.000000   \n",
       "max             18.000000                15.000000             17.000000   \n",
       "\n",
       "       MonthlyIncome   MonthlyRate  EnvironmentSatisfaction  JobSatisfaction  \\\n",
       "count    1470.000000   1470.000000              1470.000000      1470.000000   \n",
       "mean     6502.931293  14313.103401                 2.721769         2.728571   \n",
       "std      4707.956783   7117.786044                 1.093082         1.102846   \n",
       "min      1009.000000   2094.000000                 1.000000         1.000000   \n",
       "25%      2911.000000   8047.000000                 2.000000         2.000000   \n",
       "50%      4919.000000  14235.500000                 3.000000         3.000000   \n",
       "75%      8379.000000  20461.500000                 4.000000         4.000000   \n",
       "max     19999.000000  26999.000000                 4.000000         4.000000   \n",
       "\n",
       "       WorkLifeBalance  PerformanceRating  \n",
       "count      1470.000000        1470.000000  \n",
       "mean          2.761224           3.153741  \n",
       "std           0.706476           0.360824  \n",
       "min           1.000000           3.000000  \n",
       "25%           2.000000           3.000000  \n",
       "50%           3.000000           3.000000  \n",
       "75%           3.000000           3.000000  \n",
       "max           4.000000           4.000000  "
      ]
     },
     "execution_count": 7,
     "metadata": {},
     "output_type": "execute_result"
    }
   ],
   "source": [
    "# Check the range of data for each variable\n",
    "raw_dataset.describe()"
   ]
  },
  {
   "cell_type": "code",
   "execution_count": 8,
   "metadata": {},
   "outputs": [
    {
     "name": "stdout",
     "output_type": "stream",
     "text": [
      "int64_columns:\n",
      "- JobLevel\n",
      "- Age\n",
      "- DistanceFromHome\n",
      "- YearsAtCompany\n",
      "- YearsInCurrentRole\n",
      "- YearsSinceLastPromotion\n",
      "- YearsWithCurrManager\n",
      "- MonthlyIncome\n",
      "- MonthlyRate\n",
      "- EnvironmentSatisfaction\n",
      "- JobSatisfaction\n",
      "- WorkLifeBalance\n",
      "- PerformanceRating\n",
      "object_columns:\n",
      "- Attrition\n",
      "- Department\n",
      "- JobRole\n",
      "- Gender\n",
      "- OverTime\n",
      "\n"
     ]
    }
   ],
   "source": [
    "object_columns = [\n",
    "    'Attrition',\n",
    "    'Department', \n",
    "    'JobRole', \n",
    "    'Gender',\n",
    "    'OverTime']\n",
    "\n",
    "int64_columns = [\n",
    "    'JobLevel', \n",
    "    'Age', \n",
    "    'DistanceFromHome',\n",
    "    'YearsAtCompany', \n",
    "    'YearsInCurrentRole', \n",
    "    'YearsSinceLastPromotion', \n",
    "    'YearsWithCurrManager', \n",
    "    'MonthlyIncome', \n",
    "    'MonthlyRate',\n",
    "    'EnvironmentSatisfaction', \n",
    "    'JobSatisfaction', \n",
    "    'WorkLifeBalance',\n",
    "    'PerformanceRating']\n",
    "\n",
    "columns_config = {\n",
    "    'object_columns' : object_columns,\n",
    "    'int64_columns' : int64_columns\n",
    "}\n",
    "\n",
    "print(yaml.dump(columns_config))"
   ]
  },
  {
   "cell_type": "code",
   "execution_count": 9,
   "metadata": {},
   "outputs": [
    {
     "name": "stdout",
     "output_type": "stream",
     "text": [
      "Attrition:\n",
      "- 'Yes'\n",
      "- 'No'\n",
      "Department:\n",
      "- Sales\n",
      "- Research & Development\n",
      "- Human Resources\n",
      "Gender:\n",
      "- Female\n",
      "- Male\n",
      "JobRole:\n",
      "- Sales Executive\n",
      "- Research Scientist\n",
      "- Laboratory Technician\n",
      "- Manufacturing Director\n",
      "- Healthcare Representative\n",
      "- Manager\n",
      "- Sales Representative\n",
      "- Research Director\n",
      "- Human Resources\n",
      "OverTime:\n",
      "- 'Yes'\n",
      "- 'No'\n",
      "\n"
     ]
    }
   ],
   "source": [
    "object_column_range = {}\n",
    "\n",
    "for col in object_columns:\n",
    "    object_column_range[f'{col}'] = list(raw_dataset[col].unique())\n",
    "\n",
    "print(yaml.dump(object_column_range))"
   ]
  },
  {
   "cell_type": "code",
   "execution_count": 10,
   "metadata": {},
   "outputs": [
    {
     "name": "stdout",
     "output_type": "stream",
     "text": [
      "Age:\n",
      "  max: 60\n",
      "  min: 18\n",
      "DistanceFromHome:\n",
      "  max: 29\n",
      "  min: 1\n",
      "EnvironmentSatisfaction:\n",
      "  max: 4\n",
      "  min: 1\n",
      "JobLevel:\n",
      "  max: 5\n",
      "  min: 1\n",
      "JobSatisfaction:\n",
      "  max: 4\n",
      "  min: 1\n",
      "MonthlyIncome:\n",
      "  max: 19999\n",
      "  min: 1009\n",
      "MonthlyRate:\n",
      "  max: 26999\n",
      "  min: 2094\n",
      "PerformanceRating:\n",
      "  max: 4\n",
      "  min: 3\n",
      "WorkLifeBalance:\n",
      "  max: 4\n",
      "  min: 1\n",
      "YearsAtCompany:\n",
      "  max: 40\n",
      "  min: 0\n",
      "YearsInCurrentRole:\n",
      "  max: 18\n",
      "  min: 0\n",
      "YearsSinceLastPromotion:\n",
      "  max: 15\n",
      "  min: 0\n",
      "YearsWithCurrManager:\n",
      "  max: 17\n",
      "  min: 0\n",
      "\n"
     ]
    }
   ],
   "source": [
    "int64_column_range = {}\n",
    "\n",
    "for col in int64_columns:\n",
    "    int64_column_range[f'{col}'] = {\n",
    "        'min' : min(raw_dataset[col]), \n",
    "        'max' : max(raw_dataset[col])\n",
    "    }\n",
    "\n",
    "print(yaml.dump(int64_column_range))"
   ]
  },
  {
   "cell_type": "markdown",
   "metadata": {},
   "source": [
    "# Data Defense"
   ]
  },
  {
   "cell_type": "code",
   "execution_count": 11,
   "metadata": {},
   "outputs": [],
   "source": [
    "def check_data(input_data, params):\n",
    "    # Data type checking\n",
    "    assert input_data.select_dtypes(\"object\").columns.to_list() == params[\"object_columns\"], \"Error occurs in object columns\"\n",
    "    assert input_data.select_dtypes(\"int64\").columns.to_list() == params[\"int64_columns\"], \"Error occurs in object columns\"\n",
    "\n",
    "    # Range data checking for obj columns\n",
    "    for col in config_data[\"object_columns\"]:\n",
    "        assert set(input_data[f\"{col}\"]).issubset(set(params[f\"{col}_range\"])), f\"Error occurs in {col} column range\"\n",
    "\n",
    "    # Range data checking for int64 columns\n",
    "    for col in config_data[\"int64_columns\"]:\n",
    "        assert input_data[f\"{col}\"].between(params[f\"{col}_range\"][\"min\"], params[f\"{col}_range\"][\"max\"]).sum() == len(input_data), f\"Error occurs in {col} column range\""
   ]
  },
  {
   "cell_type": "code",
   "execution_count": 12,
   "metadata": {},
   "outputs": [],
   "source": [
    "check_data(raw_dataset, config_data)"
   ]
  },
  {
   "cell_type": "markdown",
   "metadata": {},
   "source": [
    "# Data Splitting"
   ]
  },
  {
   "cell_type": "code",
   "execution_count": 13,
   "metadata": {},
   "outputs": [
    {
     "name": "stdout",
     "output_type": "stream",
     "text": [
      "<class 'pandas.core.frame.DataFrame'>\n",
      "RangeIndex: 1470 entries, 0 to 1469\n",
      "Data columns (total 17 columns):\n",
      " #   Column                   Non-Null Count  Dtype \n",
      "---  ------                   --------------  ----- \n",
      " 0   JobLevel                 1470 non-null   int64 \n",
      " 1   Age                      1470 non-null   int64 \n",
      " 2   DistanceFromHome         1470 non-null   int64 \n",
      " 3   YearsAtCompany           1470 non-null   int64 \n",
      " 4   YearsInCurrentRole       1470 non-null   int64 \n",
      " 5   YearsSinceLastPromotion  1470 non-null   int64 \n",
      " 6   YearsWithCurrManager     1470 non-null   int64 \n",
      " 7   MonthlyIncome            1470 non-null   int64 \n",
      " 8   MonthlyRate              1470 non-null   int64 \n",
      " 9   EnvironmentSatisfaction  1470 non-null   int64 \n",
      " 10  JobSatisfaction          1470 non-null   int64 \n",
      " 11  WorkLifeBalance          1470 non-null   int64 \n",
      " 12  PerformanceRating        1470 non-null   int64 \n",
      " 13  Department               1470 non-null   object\n",
      " 14  JobRole                  1470 non-null   object\n",
      " 15  Gender                   1470 non-null   object\n",
      " 16  OverTime                 1470 non-null   object\n",
      "dtypes: int64(13), object(4)\n",
      "memory usage: 195.4+ KB\n",
      "None\n",
      "No     1233\n",
      "Yes     237\n",
      "Name: Attrition, dtype: int64\n"
     ]
    }
   ],
   "source": [
    "x = raw_dataset[config_data[\"int64_columns\"]+config_data[\"object_columns\"]].drop(columns=['Attrition']).copy()\n",
    "y = raw_dataset['Attrition'].copy()\n",
    "\n",
    "print(x.info())\n",
    "\n",
    "print(y.value_counts())"
   ]
  },
  {
   "cell_type": "code",
   "execution_count": 14,
   "metadata": {},
   "outputs": [],
   "source": [
    "# First split, splitting train and test set with ratio 0.7:0.3 and do stratify splitting\n",
    "x_train, x_test, y_train, y_test = train_test_split(x, y, test_size = 0.3, random_state = 42, stratify = y)\n",
    "\n",
    "# Second split, splitting test and valid set with ratio 0.5:0.5 and do stratify splitting\n",
    "x_valid, x_test, y_valid, y_test = train_test_split(x_test, y_test, test_size = 0.5, random_state = 42, stratify = y_test)"
   ]
  },
  {
   "cell_type": "code",
   "execution_count": 15,
   "metadata": {},
   "outputs": [
    {
     "name": "stdout",
     "output_type": "stream",
     "text": [
      "\n",
      "Train size:\n",
      "No     863\n",
      "Yes    166\n",
      "Name: Attrition, dtype: int64\n",
      "\n",
      "Test size:\n",
      "No     185\n",
      "Yes     36\n",
      "Name: Attrition, dtype: int64\n",
      "\n",
      "Validation size:\n",
      "No     185\n",
      "Yes     35\n",
      "Name: Attrition, dtype: int64\n",
      "\n"
     ]
    }
   ],
   "source": [
    "print(f\"\"\"\n",
    "Train size:\n",
    "{y_train.value_counts()}\n",
    "\n",
    "Test size:\n",
    "{y_test.value_counts()}\n",
    "\n",
    "Validation size:\n",
    "{y_valid.value_counts()}\n",
    "\"\"\")"
   ]
  },
  {
   "cell_type": "code",
   "execution_count": 16,
   "metadata": {},
   "outputs": [],
   "source": [
    "util.pickle_dump(x_train, config_data[\"train_set_path\"][\"x\"])\n",
    "util.pickle_dump(y_train, config_data[\"train_set_path\"][\"y\"])\n",
    "\n",
    "util.pickle_dump(x_valid, config_data[\"valid_set_path\"][\"x\"])\n",
    "util.pickle_dump(y_valid, config_data[\"valid_set_path\"][\"y\"])\n",
    "\n",
    "util.pickle_dump(x_test, config_data[\"test_set_path\"][\"x\"])\n",
    "util.pickle_dump(y_test, config_data[\"test_set_path\"][\"y\"])"
   ]
  },
  {
   "cell_type": "code",
   "execution_count": null,
   "metadata": {},
   "outputs": [],
   "source": []
  }
 ],
 "metadata": {
  "kernelspec": {
   "display_name": "venv_emp_turnover",
   "language": "python",
   "name": "python3"
  },
  "language_info": {
   "codemirror_mode": {
    "name": "ipython",
    "version": 3
   },
   "file_extension": ".py",
   "mimetype": "text/x-python",
   "name": "python",
   "nbconvert_exporter": "python",
   "pygments_lexer": "ipython3",
   "version": "3.11.4"
  }
 },
 "nbformat": 4,
 "nbformat_minor": 2
}
