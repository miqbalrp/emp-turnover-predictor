{
 "cells": [
  {
   "cell_type": "code",
   "execution_count": 1,
   "metadata": {},
   "outputs": [],
   "source": [
    "import pandas as pd\n",
    "import numpy as np\n",
    "import seaborn as sns\n",
    "import src.util as util\n",
    "from imblearn.under_sampling import RandomUnderSampler\n",
    "from imblearn.over_sampling import RandomOverSampler, SMOTE\n",
    "from sklearn.preprocessing import LabelEncoder\n",
    "from sklearn.preprocessing import OneHotEncoder"
   ]
  },
  {
   "cell_type": "code",
   "execution_count": 2,
   "metadata": {},
   "outputs": [],
   "source": [
    "config_data = util.load_config()"
   ]
  },
  {
   "cell_type": "code",
   "execution_count": 3,
   "metadata": {},
   "outputs": [],
   "source": [
    "def load_dataset(config_data: dict) -> pd.DataFrame:\n",
    "    # Load every set of data\n",
    "    x_train = util.pickle_load(config_data[\"train_set_path\"]['x'])\n",
    "    y_train = util.pickle_load(config_data[\"train_set_path\"]['y'])\n",
    "\n",
    "    x_valid = util.pickle_load(config_data[\"valid_set_path\"]['x'])\n",
    "    y_valid = util.pickle_load(config_data[\"valid_set_path\"]['y'])\n",
    "\n",
    "    x_test = util.pickle_load(config_data[\"test_set_path\"]['x'])\n",
    "    y_test = util.pickle_load(config_data[\"test_set_path\"]['y'])\n",
    "\n",
    "    # Concatenate x and y each set\n",
    "    train_set = pd.concat([x_train, y_train], axis = 1)\n",
    "    valid_set = pd.concat([x_valid, y_valid], axis = 1)\n",
    "    test_set = pd.concat([x_test, y_test], axis = 1)\n",
    "\n",
    "    # Return 3 set of data\n",
    "    return train_set, valid_set, test_set"
   ]
  },
  {
   "cell_type": "code",
   "execution_count": 4,
   "metadata": {},
   "outputs": [],
   "source": [
    "train_set, valid_set, test_set = load_dataset(config_data)"
   ]
  },
  {
   "cell_type": "markdown",
   "metadata": {},
   "source": [
    "# Handling Missing Value (if any)"
   ]
  },
  {
   "cell_type": "code",
   "execution_count": 5,
   "metadata": {},
   "outputs": [
    {
     "data": {
      "text/plain": [
       "JobLevel                   0\n",
       "Age                        0\n",
       "DistanceFromHome           0\n",
       "YearsAtCompany             0\n",
       "YearsInCurrentRole         0\n",
       "YearsSinceLastPromotion    0\n",
       "YearsWithCurrManager       0\n",
       "MonthlyIncome              0\n",
       "MonthlyRate                0\n",
       "EnvironmentSatisfaction    0\n",
       "JobSatisfaction            0\n",
       "WorkLifeBalance            0\n",
       "PerformanceRating          0\n",
       "Department                 0\n",
       "JobRole                    0\n",
       "Gender                     0\n",
       "OverTime                   0\n",
       "Attrition                  0\n",
       "dtype: int64"
      ]
     },
     "metadata": {},
     "output_type": "display_data"
    },
    {
     "data": {
      "text/plain": [
       "JobLevel                   0\n",
       "Age                        0\n",
       "DistanceFromHome           0\n",
       "YearsAtCompany             0\n",
       "YearsInCurrentRole         0\n",
       "YearsSinceLastPromotion    0\n",
       "YearsWithCurrManager       0\n",
       "MonthlyIncome              0\n",
       "MonthlyRate                0\n",
       "EnvironmentSatisfaction    0\n",
       "JobSatisfaction            0\n",
       "WorkLifeBalance            0\n",
       "PerformanceRating          0\n",
       "Department                 0\n",
       "JobRole                    0\n",
       "Gender                     0\n",
       "OverTime                   0\n",
       "Attrition                  0\n",
       "dtype: int64"
      ]
     },
     "metadata": {},
     "output_type": "display_data"
    },
    {
     "data": {
      "text/plain": [
       "JobLevel                   0\n",
       "Age                        0\n",
       "DistanceFromHome           0\n",
       "YearsAtCompany             0\n",
       "YearsInCurrentRole         0\n",
       "YearsSinceLastPromotion    0\n",
       "YearsWithCurrManager       0\n",
       "MonthlyIncome              0\n",
       "MonthlyRate                0\n",
       "EnvironmentSatisfaction    0\n",
       "JobSatisfaction            0\n",
       "WorkLifeBalance            0\n",
       "PerformanceRating          0\n",
       "Department                 0\n",
       "JobRole                    0\n",
       "Gender                     0\n",
       "OverTime                   0\n",
       "Attrition                  0\n",
       "dtype: int64"
      ]
     },
     "metadata": {},
     "output_type": "display_data"
    }
   ],
   "source": [
    "display(train_set.isnull().sum())\n",
    "display(valid_set.isnull().sum())\n",
    "display(test_set.isnull().sum())"
   ]
  },
  {
   "cell_type": "code",
   "execution_count": 6,
   "metadata": {},
   "outputs": [],
   "source": [
    "impute_values = config_data['missing_value_handling']\n",
    "train_set.fillna(value=impute_values, inplace=True)\n",
    "valid_set.fillna(value=impute_values, inplace=True)\n",
    "test_set.fillna(value=impute_values, inplace=True)\n"
   ]
  },
  {
   "cell_type": "markdown",
   "metadata": {},
   "source": [
    "# One-Hot Encoding for Categorical Vairables"
   ]
  },
  {
   "cell_type": "code",
   "execution_count": 7,
   "metadata": {},
   "outputs": [],
   "source": [
    "def ohe_fit(categorical_attribute, ohe_model_path):\n",
    "    ohe = OneHotEncoder(sparse_output=False)\n",
    "    ohe.fit(np.array(categorical_attribute).reshape(-1, 1))\n",
    "    util.pickle_dump(ohe, ohe_model_path)\n",
    "    return ohe"
   ]
  },
  {
   "cell_type": "code",
   "execution_count": 8,
   "metadata": {},
   "outputs": [],
   "source": [
    "def ohe_transform(set_data: pd.DataFrame, transformed_column: str, ohe_path: str) -> pd.DataFrame:\n",
    "    set_data = set_data.copy()\n",
    "    ohe = util.pickle_load(ohe_path)\n",
    "\n",
    "    features = ohe.transform(np.array(set_data[transformed_column].to_list()).reshape(-1, 1))\n",
    "    features = pd.DataFrame(features.tolist(), columns=ohe.get_feature_names_out([transformed_column]))\n",
    "    \n",
    "    features.set_index(set_data.index, inplace=True)\n",
    "    set_data = pd.concat([features, set_data], axis=1)\n",
    "    set_data.drop(columns=transformed_column, inplace=True)\n",
    "\n",
    "    new_col = [str(col_name) for col_name in set_data.columns.to_list()]\n",
    "    set_data.columns = new_col\n",
    "\n",
    "    return set_data"
   ]
  },
  {
   "cell_type": "code",
   "execution_count": 9,
   "metadata": {},
   "outputs": [],
   "source": [
    "ohe_Department = ohe_fit(config_data['Department_range'], config_data['ohe_Department_path'])\n",
    "ohe_JobRole = ohe_fit(config_data['JobRole_range'], config_data['ohe_JobRole_path'])\n",
    "ohe_Gender = ohe_fit(config_data['Gender_range'], config_data['ohe_Gender_path'])\n",
    "ohe_OverTime = ohe_fit(config_data['OverTime_range'], config_data['ohe_OverTime_path'])"
   ]
  },
  {
   "cell_type": "code",
   "execution_count": 10,
   "metadata": {},
   "outputs": [],
   "source": [
    "for col in ['Department', 'JobRole', 'Gender', 'OverTime']:\n",
    "    train_set = ohe_transform(train_set, col, config_data[f\"ohe_{col}_path\"])\n",
    "    valid_set = ohe_transform(valid_set, col, config_data[f\"ohe_{col}_path\"])\n",
    "    test_set = ohe_transform(test_set, col, config_data[f\"ohe_{col}_path\"])"
   ]
  },
  {
   "cell_type": "code",
   "execution_count": 11,
   "metadata": {},
   "outputs": [
    {
     "name": "stdout",
     "output_type": "stream",
     "text": [
      "<class 'pandas.core.frame.DataFrame'>\n",
      "Int64Index: 1029 entries, 853 to 1292\n",
      "Data columns (total 30 columns):\n",
      " #   Column                             Non-Null Count  Dtype  \n",
      "---  ------                             --------------  -----  \n",
      " 0   OverTime_No                        1029 non-null   float64\n",
      " 1   OverTime_Yes                       1029 non-null   float64\n",
      " 2   Gender_Female                      1029 non-null   float64\n",
      " 3   Gender_Male                        1029 non-null   float64\n",
      " 4   JobRole_Healthcare Representative  1029 non-null   float64\n",
      " 5   JobRole_Human Resources            1029 non-null   float64\n",
      " 6   JobRole_Laboratory Technician      1029 non-null   float64\n",
      " 7   JobRole_Manager                    1029 non-null   float64\n",
      " 8   JobRole_Manufacturing Director     1029 non-null   float64\n",
      " 9   JobRole_Research Director          1029 non-null   float64\n",
      " 10  JobRole_Research Scientist         1029 non-null   float64\n",
      " 11  JobRole_Sales Executive            1029 non-null   float64\n",
      " 12  JobRole_Sales Representative       1029 non-null   float64\n",
      " 13  Department_Human Resources         1029 non-null   float64\n",
      " 14  Department_Research & Development  1029 non-null   float64\n",
      " 15  Department_Sales                   1029 non-null   float64\n",
      " 16  JobLevel                           1029 non-null   int64  \n",
      " 17  Age                                1029 non-null   int64  \n",
      " 18  DistanceFromHome                   1029 non-null   int64  \n",
      " 19  YearsAtCompany                     1029 non-null   int64  \n",
      " 20  YearsInCurrentRole                 1029 non-null   int64  \n",
      " 21  YearsSinceLastPromotion            1029 non-null   int64  \n",
      " 22  YearsWithCurrManager               1029 non-null   int64  \n",
      " 23  MonthlyIncome                      1029 non-null   int64  \n",
      " 24  MonthlyRate                        1029 non-null   int64  \n",
      " 25  EnvironmentSatisfaction            1029 non-null   int64  \n",
      " 26  JobSatisfaction                    1029 non-null   int64  \n",
      " 27  WorkLifeBalance                    1029 non-null   int64  \n",
      " 28  PerformanceRating                  1029 non-null   int64  \n",
      " 29  Attrition                          1029 non-null   object \n",
      "dtypes: float64(16), int64(13), object(1)\n",
      "memory usage: 249.2+ KB\n"
     ]
    }
   ],
   "source": [
    "train_set.info()"
   ]
  },
  {
   "cell_type": "markdown",
   "metadata": {},
   "source": [
    "# Balancing Label\n",
    "*Only for train dataset*"
   ]
  },
  {
   "cell_type": "code",
   "execution_count": 12,
   "metadata": {},
   "outputs": [],
   "source": [
    "import matplotlib.pyplot as plt\n",
    "import seaborn as sns\n",
    "\n",
    "def attrition_count_plot(dataset):\n",
    "    plt.figure(figsize=(5,3))\n",
    "    ax = sns.countplot(data=dataset, x='Attrition', hue='Attrition', palette='dark:skyblue', edgecolor='black')\n",
    "    total_height = len(dataset)\n",
    "    for p in ax.patches:\n",
    "        height = p.get_height()\n",
    "        percentage = (height / total_height) * 100\n",
    "        ax.annotate(f'{percentage:.2f}%', (p.get_x() + p.get_width() / 2., height),\n",
    "                    ha='center', va='center', xytext=(0, 10), textcoords='offset points')\n",
    "    sns.despine()\n",
    "    plt.show()"
   ]
  },
  {
   "cell_type": "code",
   "execution_count": 13,
   "metadata": {},
   "outputs": [
    {
     "data": {
      "image/png": "[encoded data removed]",
      "text/plain": [
       "<Figure size 500x300 with 1 Axes>"
      ]
     },
     "metadata": {},
     "output_type": "display_data"
    }
   ],
   "source": [
    "attrition_count_plot(train_set)"
   ]
  },
  {
   "cell_type": "code",
   "execution_count": 14,
   "metadata": {},
   "outputs": [],
   "source": [
    "def rus_fit_resample(set_data: pd.DataFrame) -> pd.DataFrame:\n",
    "    set_data = set_data.copy()\n",
    "    rus = RandomUnderSampler(random_state = 42)\n",
    "    x_rus, y_rus = rus.fit_resample(set_data.drop(\"Attrition\", axis = 1), set_data['Attrition'])\n",
    "    set_data_rus = pd.concat([x_rus, y_rus], axis = 1)\n",
    "    return set_data_rus\n",
    "\n",
    "def ros_fit_resample(set_data: pd.DataFrame) -> pd.DataFrame:\n",
    "    set_data = set_data.copy()\n",
    "    ros = RandomOverSampler(random_state = 11)\n",
    "    x_ros, y_ros = ros.fit_resample(set_data.drop(\"Attrition\", axis = 1), set_data['Attrition'])\n",
    "    set_data_ros = pd.concat([x_ros, y_ros], axis = 1)\n",
    "    return set_data_ros\n",
    "\n",
    "def sm_fit_resample(set_data: pd.DataFrame) -> pd.DataFrame:\n",
    "    set_data = set_data.copy()\n",
    "    sm = SMOTE(random_state = 112)\n",
    "    x_sm, y_sm = sm.fit_resample(set_data.drop(\"Attrition\", axis = 1), set_data['Attrition'])\n",
    "    set_data_sm = pd.concat([x_sm, y_sm], axis = 1)\n",
    "    return set_data_sm"
   ]
  },
  {
   "cell_type": "code",
   "execution_count": 15,
   "metadata": {},
   "outputs": [
    {
     "data": {
      "image/png": "[encoded data removed]",
      "text/plain": [
       "<Figure size 500x300 with 1 Axes>"
      ]
     },
     "metadata": {},
     "output_type": "display_data"
    }
   ],
   "source": [
    "train_set_rus = rus_fit_resample(train_set)\n",
    "attrition_count_plot(train_set_rus)"
   ]
  },
  {
   "cell_type": "code",
   "execution_count": 16,
   "metadata": {},
   "outputs": [
    {
     "data": {
      "image/png": "[encoded data removed]",
      "text/plain": [
       "<Figure size 500x300 with 1 Axes>"
      ]
     },
     "metadata": {},
     "output_type": "display_data"
    }
   ],
   "source": [
    "train_set_ros = ros_fit_resample(train_set)\n",
    "attrition_count_plot(train_set_ros)"
   ]
  },
  {
   "cell_type": "code",
   "execution_count": 17,
   "metadata": {},
   "outputs": [
    {
     "data": {
      "image/png": "[encoded data removed]",
      "text/plain": [
       "<Figure size 500x300 with 1 Axes>"
      ]
     },
     "metadata": {},
     "output_type": "display_data"
    }
   ],
   "source": [
    "train_set_sm = sm_fit_resample(train_set)\n",
    "attrition_count_plot(train_set_sm)"
   ]
  },
  {
   "cell_type": "markdown",
   "metadata": {},
   "source": [
    "# Label Encoding"
   ]
  },
  {
   "cell_type": "code",
   "execution_count": 18,
   "metadata": {},
   "outputs": [],
   "source": [
    "def le_fit(data_tobe_fitted: dict, le_path: str) -> LabelEncoder:\n",
    "    le_encoder = LabelEncoder()\n",
    "    le_encoder.fit(data_tobe_fitted)\n",
    "    util.pickle_dump(le_encoder, le_path)\n",
    "    return le_encoder"
   ]
  },
  {
   "cell_type": "code",
   "execution_count": 19,
   "metadata": {},
   "outputs": [],
   "source": [
    "le_encoder = le_fit(config_data[\"Attrition_range\"], config_data[\"le_encoder_path\"])"
   ]
  },
  {
   "cell_type": "code",
   "execution_count": 20,
   "metadata": {},
   "outputs": [],
   "source": [
    "def le_transform(label_data: pd.Series, config_data: dict) -> pd.Series:\n",
    "    label_data = label_data.copy()\n",
    "    le_encoder = util.pickle_load(config_data[\"le_encoder_path\"])\n",
    "\n",
    "    # If categories both label data and trained le matched\n",
    "    if len(set(label_data.unique()) - set(le_encoder.classes_) | set(le_encoder.classes_) - set(label_data.unique())) == 0:\n",
    "        label_data = le_encoder.transform(label_data)\n",
    "    else:\n",
    "        raise RuntimeError(\"Check category in label data and label encoder.\")\n",
    "\n",
    "    return label_data"
   ]
  },
  {
   "cell_type": "code",
   "execution_count": 21,
   "metadata": {},
   "outputs": [],
   "source": [
    "train_set['Attrition'] = le_transform(train_set['Attrition'], config_data)\n",
    "train_set_rus['Attrition'] = le_transform(train_set_rus['Attrition'], config_data)\n",
    "train_set_ros['Attrition'] = le_transform(train_set_ros['Attrition'], config_data)\n",
    "train_set_sm['Attrition'] = le_transform(train_set_sm['Attrition'], config_data)\n",
    "\n",
    "valid_set['Attrition'] = le_transform(valid_set['Attrition'], config_data)\n",
    "test_set['Attrition'] = le_transform(test_set['Attrition'], config_data)"
   ]
  },
  {
   "cell_type": "code",
   "execution_count": 22,
   "metadata": {},
   "outputs": [
    {
     "data": {
      "text/plain": [
       "0    863\n",
       "1    166\n",
       "Name: Attrition, dtype: int64"
      ]
     },
     "execution_count": 22,
     "metadata": {},
     "output_type": "execute_result"
    }
   ],
   "source": [
    "train_set.Attrition.value_counts()"
   ]
  },
  {
   "cell_type": "code",
   "execution_count": 23,
   "metadata": {},
   "outputs": [],
   "source": [
    "x_train = {\n",
    "    \"No sampling\" : train_set.drop(columns = \"Attrition\"),\n",
    "    \"Undersampling\" : train_set_rus.drop(columns = \"Attrition\"),\n",
    "    \"Oversampling\" : train_set_ros.drop(columns = \"Attrition\"),\n",
    "    \"SMOTE\" : train_set_sm.drop(columns = \"Attrition\")\n",
    "}\n",
    "\n",
    "y_train = {\n",
    "    \"No sampling\" : train_set.Attrition,\n",
    "    \"Undersampling\" : train_set_rus.Attrition,\n",
    "    \"Oversampling\" : train_set_ros.Attrition,\n",
    "    \"SMOTE\" : train_set_sm.Attrition\n",
    "}"
   ]
  },
  {
   "cell_type": "code",
   "execution_count": 24,
   "metadata": {},
   "outputs": [],
   "source": [
    "util.pickle_dump(x_train, config_data['train_set_feng_path']['x'])\n",
    "util.pickle_dump(y_train, config_data['train_set_feng_path']['y'])\n",
    "\n",
    "util.pickle_dump(valid_set.drop(columns = \"Attrition\"), config_data['valid_set_feng_path']['x'])\n",
    "util.pickle_dump(valid_set.Attrition, config_data['valid_set_feng_path']['y'])\n",
    "\n",
    "util.pickle_dump(test_set.drop(columns = \"Attrition\"), config_data['test_set_feng_path']['x'])\n",
    "util.pickle_dump(test_set.Attrition, config_data['test_set_feng_path']['y'])"
   ]
  }
 ],
 "metadata": {
  "kernelspec": {
   "display_name": "venv_emp_turnover",
   "language": "python",
   "name": "python3"
  },
  "language_info": {
   "codemirror_mode": {
    "name": "ipython",
    "version": 3
   },
   "file_extension": ".py",
   "mimetype": "text/x-python",
   "name": "python",
   "nbconvert_exporter": "python",
   "pygments_lexer": "ipython3",
   "version": "3.11.4"
  }
 },
 "nbformat": 4,
 "nbformat_minor": 2
}
