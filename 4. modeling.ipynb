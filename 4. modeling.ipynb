{
 "cells": [
  {
   "cell_type": "markdown",
   "metadata": {},
   "source": [
    "## 0. Required Libraries"
   ]
  },
  {
   "cell_type": "code",
   "execution_count": 2,
   "metadata": {},
   "outputs": [],
   "source": [
    "from sklearn.linear_model import LogisticRegression\n",
    "from sklearn.tree import DecisionTreeClassifier\n",
    "from sklearn.ensemble import RandomForestClassifier\n",
    "from sklearn.neighbors import KNeighborsClassifier\n",
    "from xgboost import XGBClassifier\n",
    "\n",
    "from sklearn.metrics import classification_report, ConfusionMatrixDisplay, roc_curve, roc_auc_score\n",
    "from sklearn.model_selection import RandomizedSearchCV, GridSearchCV\n",
    "\n",
    "import joblib\n",
    "import json\n",
    "import pandas as pd\n",
    "import copy\n",
    "import hashlib\n",
    "\n",
    "import src.util as util"
   ]
  },
  {
   "cell_type": "markdown",
   "metadata": {},
   "source": [
    "## 1. Load Configuration File"
   ]
  },
  {
   "cell_type": "code",
   "execution_count": 3,
   "metadata": {},
   "outputs": [],
   "source": [
    "params = util.load_config()"
   ]
  },
  {
   "cell_type": "markdown",
   "metadata": {},
   "source": [
    "## 2. Load Dataset"
   ]
  },
  {
   "cell_type": "code",
   "execution_count": 4,
   "metadata": {},
   "outputs": [],
   "source": [
    "def load_train_feng(params: dict) -> pd.DataFrame:\n",
    "    x_train = util.pickle_load(params[\"train_set_feng_path\"]['x'])\n",
    "    y_train = util.pickle_load(params[\"train_set_feng_path\"]['y'])\n",
    "\n",
    "    return x_train, y_train\n",
    "\n",
    "def load_valid_feng(params: dict) -> pd.DataFrame:\n",
    "    x_valid = util.pickle_load(params[\"valid_set_feng_path\"]['x'])\n",
    "    y_valid = util.pickle_load(params[\"valid_set_feng_path\"]['y'])\n",
    "\n",
    "    return x_valid, y_valid\n",
    "\n",
    "def load_test_feng(params: dict) -> pd.DataFrame:\n",
    "    x_test = util.pickle_load(params[\"test_set_feng_path\"]['x'])\n",
    "    y_test = util.pickle_load(params[\"test_set_feng_path\"]['y'])\n",
    "\n",
    "    return x_test, y_test"
   ]
  },
  {
   "cell_type": "code",
   "execution_count": 5,
   "metadata": {},
   "outputs": [],
   "source": [
    "def load_dataset(params: dict) -> pd.DataFrame:\n",
    "    # Debug message\n",
    "    util.print_debug(\"Loading dataset.\")\n",
    "\n",
    "    # Load train set\n",
    "    x_train, y_train = load_train_feng(params)\n",
    "\n",
    "    # Load valid set\n",
    "    x_valid, y_valid = load_valid_feng(params)\n",
    "\n",
    "    # Load test set\n",
    "    x_test, y_test = load_test_feng(params)\n",
    "\n",
    "    # Debug message\n",
    "    util.print_debug(\"Dataset loaded.\")\n",
    "\n",
    "    # Return the dataset\n",
    "    return x_train, y_train, x_valid, y_valid, x_test, y_test"
   ]
  },
  {
   "cell_type": "markdown",
   "metadata": {},
   "source": [
    "## 3. Create Training Log Template"
   ]
  },
  {
   "cell_type": "code",
   "execution_count": 6,
   "metadata": {},
   "outputs": [],
   "source": [
    "def training_log_template() -> dict:\n",
    "    # Debug message\n",
    "    util.print_debug(\"Creating training log template.\")\n",
    "    \n",
    "    # Template of training log\n",
    "    logger = {\n",
    "        \"model_name\" : [],\n",
    "        \"model_uid\" : [],\n",
    "        \"training_time\" : [],\n",
    "        \"training_date\" : [],\n",
    "        \"performance\" : [],\n",
    "        \"f1_score_avg\" : [],\n",
    "        \"data_configurations\" : [],\n",
    "    }\n",
    "\n",
    "    # Debug message\n",
    "    util.print_debug(\"Training log template created.\")\n",
    "\n",
    "    # Return training log template\n",
    "    return logger"
   ]
  },
  {
   "cell_type": "code",
   "execution_count": 7,
   "metadata": {},
   "outputs": [],
   "source": [
    "def training_log_updater(current_log: dict, params: dict) -> list:\n",
    "    # Create copy of current log\n",
    "    current_log = copy.deepcopy(current_log)\n",
    "\n",
    "    # Path for training log file\n",
    "    log_path = params[\"training_log_path\"]\n",
    "\n",
    "    # Try to load training log file\n",
    "    try:\n",
    "        with open(log_path, \"r\") as file:\n",
    "            last_log = json.load(file)\n",
    "        file.close()\n",
    "\n",
    "    # If file not found, create a new one\n",
    "    except FileNotFoundError as fe:\n",
    "        with open(log_path, \"w\") as file:\n",
    "            file.write(\"[]\")\n",
    "        file.close()\n",
    "\n",
    "        with open(log_path, \"r\") as file:\n",
    "            last_log = json.load(file)\n",
    "        file.close()\n",
    "    \n",
    "    # Add current log to previous log\n",
    "    last_log.append(current_log)\n",
    "\n",
    "    # Save updated log\n",
    "    with open(log_path, \"w\") as file:\n",
    "        json.dump(last_log, file)\n",
    "        file.close()\n",
    "\n",
    "    # Return log\n",
    "    return last_log"
   ]
  },
  {
   "cell_type": "markdown",
   "metadata": {},
   "source": [
    "## 4. Training and Evaluation"
   ]
  },
  {
   "cell_type": "markdown",
   "metadata": {},
   "source": [
    "### 4.1. Create Model Object"
   ]
  },
  {
   "cell_type": "code",
   "execution_count": 8,
   "metadata": {},
   "outputs": [],
   "source": [
    "def create_model_object(params: dict) -> list:\n",
    "    # Debug message\n",
    "    util.print_debug(\"Creating model objects.\")\n",
    "\n",
    "    # Create model objects\n",
    "    lgr = LogisticRegression()\n",
    "    dct = DecisionTreeClassifier()\n",
    "    rfc = RandomForestClassifier()\n",
    "    knn = KNeighborsClassifier()\n",
    "    xgb = XGBClassifier()\n",
    "\n",
    "    # Create list of model\n",
    "    list_of_model = [\n",
    "        { \"model_name\": lgr.__class__.__name__, \"model_object\": lgr, \"model_uid\": \"\"},\n",
    "        { \"model_name\": dct.__class__.__name__, \"model_object\": dct, \"model_uid\": \"\"},\n",
    "        { \"model_name\": rfc.__class__.__name__, \"model_object\": rfc, \"model_uid\": \"\"},\n",
    "        { \"model_name\": knn.__class__.__name__, \"model_object\": knn, \"model_uid\": \"\"},\n",
    "        { \"model_name\": xgb.__class__.__name__, \"model_object\": xgb, \"model_uid\": \"\"}\n",
    "    ]\n",
    "\n",
    "    # Debug message\n",
    "    util.print_debug(\"Model objects created.\")\n",
    "\n",
    "    # Return the list of model\n",
    "    return list_of_model"
   ]
  },
  {
   "cell_type": "markdown",
   "metadata": {},
   "source": [
    "### 4.2. Training Baseline Model"
   ]
  },
  {
   "cell_type": "code",
   "execution_count": 9,
   "metadata": {},
   "outputs": [],
   "source": [
    "def train_eval(configuration_model: str, params: dict, hyperparams_model: list = None):\n",
    "    # Load dataset\n",
    "    x_train, y_train, \\\n",
    "    x_valid, y_valid, \\\n",
    "    x_test, y_test = load_dataset(params)\n",
    "\n",
    "    # Variabel to store trained models\n",
    "    list_of_trained_model = dict()\n",
    "\n",
    "    # Create log template\n",
    "    training_log = training_log_template()\n",
    "\n",
    "    # Training for every data configuration\n",
    "    for config_data in x_train:\n",
    "        # Debug message\n",
    "        util.print_debug(\"Training model based on configuration data: {}\".format(config_data))\n",
    "\n",
    "        # Create model objects\n",
    "        if hyperparams_model == None:\n",
    "            list_of_model = create_model_object(params)\n",
    "        else:\n",
    "            list_of_model = copy.deepcopy(hyperparams_model)\n",
    "\n",
    "        # Variabel to store tained model\n",
    "        trained_model = list()\n",
    "\n",
    "        # Load train data based on its configuration\n",
    "        x_train_data = x_train[config_data]\n",
    "        y_train_data = y_train[config_data]\n",
    "\n",
    "        # Train each model by current dataset configuration\n",
    "        for model in list_of_model:\n",
    "            # Debug message\n",
    "            util.print_debug(\"Training model: {}\".format(model[\"model_name\"]))\n",
    "\n",
    "            # Training\n",
    "            training_time = util.time_stamp()\n",
    "            model[\"model_object\"].fit(x_train_data, y_train_data)\n",
    "            training_time = (util.time_stamp() - training_time).total_seconds()\n",
    "\n",
    "            # Debug message\n",
    "            util.print_debug(\"Evalutaing model: {}\".format(model[\"model_name\"]))\n",
    "\n",
    "            # Evaluation\n",
    "            y_predict = model[\"model_object\"].predict(x_valid)\n",
    "            performance = classification_report(y_valid, y_predict, output_dict = True)\n",
    "\n",
    "            # Debug message\n",
    "            util.print_debug(\"Logging: {}\".format(model[\"model_name\"]))\n",
    "\n",
    "            # Create UID\n",
    "            uid = hashlib.md5(str(training_time).encode()).hexdigest()\n",
    "\n",
    "            # Assign model's UID\n",
    "            model[\"model_uid\"] = uid\n",
    "\n",
    "            # Create training log data\n",
    "            training_log[\"model_name\"].append(\"{}-{}\".format(configuration_model, model[\"model_name\"]))\n",
    "            training_log[\"model_uid\"].append(uid)\n",
    "            training_log[\"training_time\"].append(training_time)\n",
    "            training_log[\"training_date\"].append(util.time_stamp())\n",
    "            training_log[\"performance\"].append(performance)\n",
    "            training_log[\"f1_score_avg\"].append(performance[\"macro avg\"][\"f1-score\"])\n",
    "            training_log[\"data_configurations\"].append(config_data)\n",
    "\n",
    "            # Collect current trained model\n",
    "            trained_model.append(copy.deepcopy(model))\n",
    "\n",
    "            # Debug message\n",
    "            util.print_debug(\"Model {} has been trained for configuration data {}.\".format(model[\"model_name\"], config_data))\n",
    "        \n",
    "        # Collect current trained list of model\n",
    "        list_of_trained_model[config_data] = copy.deepcopy(trained_model)\n",
    "    \n",
    "    # Debug message\n",
    "    util.print_debug(\"All combination models and configuration data has been trained.\")\n",
    "    \n",
    "    # Return list trained model\n",
    "    return list_of_trained_model, training_log"
   ]
  },
  {
   "cell_type": "code",
   "execution_count": 10,
   "metadata": {},
   "outputs": [
    {
     "name": "stdout",
     "output_type": "stream",
     "text": [
      "2024-02-27 23:07:31.741792 Loading dataset.\n",
      "2024-02-27 23:07:31.747093 Dataset loaded.\n",
      "2024-02-27 23:07:31.747118 Creating training log template.\n",
      "2024-02-27 23:07:31.747123 Training log template created.\n",
      "2024-02-27 23:07:31.747129 Training model based on configuration data: No sampling\n",
      "2024-02-27 23:07:31.747134 Creating model objects.\n",
      "2024-02-27 23:07:31.747187 Model objects created.\n",
      "2024-02-27 23:07:31.747194 Training model: LogisticRegression\n",
      "2024-02-27 23:07:31.765796 Evalutaing model: LogisticRegression\n",
      "2024-02-27 23:07:31.772306 Logging: LogisticRegression\n",
      "2024-02-27 23:07:31.772386 Model LogisticRegression has been trained for configuration data No sampling.\n",
      "2024-02-27 23:07:31.772393 Training model: DecisionTreeClassifier\n",
      "2024-02-27 23:07:31.793193 Evalutaing model: DecisionTreeClassifier\n",
      "2024-02-27 23:07:31.834434 Logging: DecisionTreeClassifier\n",
      "2024-02-27 23:07:31.834551 Model DecisionTreeClassifier has been trained for configuration data No sampling.\n",
      "2024-02-27 23:07:31.834560 Training model: RandomForestClassifier\n",
      "2024-02-27 23:07:31.946656 Evalutaing model: RandomForestClassifier\n",
      "2024-02-27 23:07:31.951783 Logging: RandomForestClassifier\n",
      "2024-02-27 23:07:31.962479 Model RandomForestClassifier has been trained for configuration data No sampling.\n",
      "2024-02-27 23:07:31.962522 Training model: KNeighborsClassifier\n",
      "2024-02-27 23:07:31.964590 Evalutaing model: KNeighborsClassifier\n"
     ]
    },
    {
     "name": "stderr",
     "output_type": "stream",
     "text": [
      "/Users/iqbalrahmadhan/ml_project/emp_turnover_predictor/venv_emp_turnover/lib/python3.11/site-packages/sklearn/linear_model/_logistic.py:469: ConvergenceWarning: lbfgs failed to converge (status=1):\n",
      "STOP: TOTAL NO. of ITERATIONS REACHED LIMIT.\n",
      "\n",
      "Increase the number of iterations (max_iter) or scale the data as shown in:\n",
      "    https://scikit-learn.org/stable/modules/preprocessing.html\n",
      "Please also refer to the documentation for alternative solver options:\n",
      "    https://scikit-learn.org/stable/modules/linear_model.html#logistic-regression\n",
      "  n_iter_i = _check_optimize_result(\n"
     ]
    },
    {
     "name": "stdout",
     "output_type": "stream",
     "text": [
      "2024-02-27 23:07:32.061850 Logging: KNeighborsClassifier\n",
      "2024-02-27 23:07:32.100543 Model KNeighborsClassifier has been trained for configuration data No sampling.\n",
      "2024-02-27 23:07:32.100602 Training model: XGBClassifier\n",
      "2024-02-27 23:07:32.321613 Evalutaing model: XGBClassifier\n",
      "2024-02-27 23:07:32.325452 Logging: XGBClassifier\n",
      "2024-02-27 23:07:32.327460 Model XGBClassifier has been trained for configuration data No sampling.\n",
      "2024-02-27 23:07:32.332919 Training model based on configuration data: Undersampling\n",
      "2024-02-27 23:07:32.332935 Creating model objects.\n",
      "2024-02-27 23:07:32.332997 Model objects created.\n",
      "2024-02-27 23:07:32.333516 Training model: LogisticRegression\n",
      "2024-02-27 23:07:32.341370 Evalutaing model: LogisticRegression\n",
      "2024-02-27 23:07:32.351076 Logging: LogisticRegression\n",
      "2024-02-27 23:07:32.351221 Model LogisticRegression has been trained for configuration data Undersampling.\n",
      "2024-02-27 23:07:32.351243 Training model: DecisionTreeClassifier\n",
      "2024-02-27 23:07:32.355016 Evalutaing model: DecisionTreeClassifier\n",
      "2024-02-27 23:07:32.362463 Logging: DecisionTreeClassifier\n",
      "2024-02-27 23:07:32.362684 Model DecisionTreeClassifier has been trained for configuration data Undersampling.\n",
      "2024-02-27 23:07:32.362704 Training model: RandomForestClassifier\n",
      "2024-02-27 23:07:32.432481 Evalutaing model: RandomForestClassifier\n",
      "2024-02-27 23:07:32.437235 Logging: RandomForestClassifier\n",
      "2024-02-27 23:07:32.440007 Model RandomForestClassifier has been trained for configuration data Undersampling.\n",
      "2024-02-27 23:07:32.440018 Training model: KNeighborsClassifier\n",
      "2024-02-27 23:07:32.440596 Evalutaing model: KNeighborsClassifier\n",
      "2024-02-27 23:07:32.467709 Logging: KNeighborsClassifier\n",
      "2024-02-27 23:07:32.467770 Model KNeighborsClassifier has been trained for configuration data Undersampling.\n",
      "2024-02-27 23:07:32.467777 Training model: XGBClassifier\n"
     ]
    },
    {
     "name": "stderr",
     "output_type": "stream",
     "text": [
      "/Users/iqbalrahmadhan/ml_project/emp_turnover_predictor/venv_emp_turnover/lib/python3.11/site-packages/sklearn/linear_model/_logistic.py:469: ConvergenceWarning: lbfgs failed to converge (status=1):\n",
      "STOP: TOTAL NO. of ITERATIONS REACHED LIMIT.\n",
      "\n",
      "Increase the number of iterations (max_iter) or scale the data as shown in:\n",
      "    https://scikit-learn.org/stable/modules/preprocessing.html\n",
      "Please also refer to the documentation for alternative solver options:\n",
      "    https://scikit-learn.org/stable/modules/linear_model.html#logistic-regression\n",
      "  n_iter_i = _check_optimize_result(\n"
     ]
    },
    {
     "name": "stdout",
     "output_type": "stream",
     "text": [
      "2024-02-27 23:07:32.689132 Evalutaing model: XGBClassifier\n",
      "2024-02-27 23:07:32.693119 Logging: XGBClassifier\n",
      "2024-02-27 23:07:32.695048 Model XGBClassifier has been trained for configuration data Undersampling.\n",
      "2024-02-27 23:07:32.699944 Training model based on configuration data: Oversampling\n",
      "2024-02-27 23:07:32.699958 Creating model objects.\n",
      "2024-02-27 23:07:32.699988 Model objects created.\n",
      "2024-02-27 23:07:32.700178 Training model: LogisticRegression\n",
      "2024-02-27 23:07:32.719641 Evalutaing model: LogisticRegression\n",
      "2024-02-27 23:07:32.721926 Logging: LogisticRegression\n",
      "2024-02-27 23:07:32.721984 Model LogisticRegression has been trained for configuration data Oversampling.\n",
      "2024-02-27 23:07:32.721990 Training model: DecisionTreeClassifier\n",
      "2024-02-27 23:07:32.727221 Evalutaing model: DecisionTreeClassifier\n",
      "2024-02-27 23:07:32.729333 Logging: DecisionTreeClassifier\n",
      "2024-02-27 23:07:32.729404 Model DecisionTreeClassifier has been trained for configuration data Oversampling.\n",
      "2024-02-27 23:07:32.729410 Training model: RandomForestClassifier\n",
      "2024-02-27 23:07:32.861531 Evalutaing model: RandomForestClassifier\n",
      "2024-02-27 23:07:32.866565 Logging: RandomForestClassifier\n",
      "2024-02-27 23:07:32.870136 Model RandomForestClassifier has been trained for configuration data Oversampling.\n",
      "2024-02-27 23:07:32.870146 Training model: KNeighborsClassifier\n",
      "2024-02-27 23:07:32.870794 Evalutaing model: KNeighborsClassifier\n",
      "2024-02-27 23:07:32.886644 Logging: KNeighborsClassifier\n",
      "2024-02-27 23:07:32.886716 Model KNeighborsClassifier has been trained for configuration data Oversampling.\n",
      "2024-02-27 23:07:32.886722 Training model: XGBClassifier\n"
     ]
    },
    {
     "name": "stderr",
     "output_type": "stream",
     "text": [
      "/Users/iqbalrahmadhan/ml_project/emp_turnover_predictor/venv_emp_turnover/lib/python3.11/site-packages/sklearn/linear_model/_logistic.py:469: ConvergenceWarning: lbfgs failed to converge (status=1):\n",
      "STOP: TOTAL NO. of ITERATIONS REACHED LIMIT.\n",
      "\n",
      "Increase the number of iterations (max_iter) or scale the data as shown in:\n",
      "    https://scikit-learn.org/stable/modules/preprocessing.html\n",
      "Please also refer to the documentation for alternative solver options:\n",
      "    https://scikit-learn.org/stable/modules/linear_model.html#logistic-regression\n",
      "  n_iter_i = _check_optimize_result(\n"
     ]
    },
    {
     "name": "stdout",
     "output_type": "stream",
     "text": [
      "2024-02-27 23:07:33.124854 Evalutaing model: XGBClassifier\n",
      "2024-02-27 23:07:33.128672 Logging: XGBClassifier\n",
      "2024-02-27 23:07:33.130556 Model XGBClassifier has been trained for configuration data Oversampling.\n",
      "2024-02-27 23:07:33.136569 Training model based on configuration data: SMOTE\n",
      "2024-02-27 23:07:33.136582 Creating model objects.\n",
      "2024-02-27 23:07:33.136614 Model objects created.\n",
      "2024-02-27 23:07:33.137159 Training model: LogisticRegression\n",
      "2024-02-27 23:07:33.161127 Evalutaing model: LogisticRegression\n",
      "2024-02-27 23:07:33.169322 Logging: LogisticRegression\n",
      "2024-02-27 23:07:33.169374 Model LogisticRegression has been trained for configuration data SMOTE.\n",
      "2024-02-27 23:07:33.169380 Training model: DecisionTreeClassifier\n",
      "2024-02-27 23:07:33.175952 Evalutaing model: DecisionTreeClassifier\n",
      "2024-02-27 23:07:33.178116 Logging: DecisionTreeClassifier\n",
      "2024-02-27 23:07:33.178186 Model DecisionTreeClassifier has been trained for configuration data SMOTE.\n",
      "2024-02-27 23:07:33.178193 Training model: RandomForestClassifier\n",
      "2024-02-27 23:07:33.319969 Evalutaing model: RandomForestClassifier\n",
      "2024-02-27 23:07:33.324999 Logging: RandomForestClassifier\n",
      "2024-02-27 23:07:33.328657 Model RandomForestClassifier has been trained for configuration data SMOTE.\n",
      "2024-02-27 23:07:33.328667 Training model: KNeighborsClassifier\n",
      "2024-02-27 23:07:33.329325 Evalutaing model: KNeighborsClassifier\n"
     ]
    },
    {
     "name": "stderr",
     "output_type": "stream",
     "text": [
      "/Users/iqbalrahmadhan/ml_project/emp_turnover_predictor/venv_emp_turnover/lib/python3.11/site-packages/sklearn/linear_model/_logistic.py:469: ConvergenceWarning: lbfgs failed to converge (status=1):\n",
      "STOP: TOTAL NO. of ITERATIONS REACHED LIMIT.\n",
      "\n",
      "Increase the number of iterations (max_iter) or scale the data as shown in:\n",
      "    https://scikit-learn.org/stable/modules/preprocessing.html\n",
      "Please also refer to the documentation for alternative solver options:\n",
      "    https://scikit-learn.org/stable/modules/linear_model.html#logistic-regression\n",
      "  n_iter_i = _check_optimize_result(\n"
     ]
    },
    {
     "name": "stdout",
     "output_type": "stream",
     "text": [
      "2024-02-27 23:07:33.360338 Logging: KNeighborsClassifier\n",
      "2024-02-27 23:07:33.360465 Model KNeighborsClassifier has been trained for configuration data SMOTE.\n",
      "2024-02-27 23:07:33.360472 Training model: XGBClassifier\n",
      "2024-02-27 23:07:33.578954 Evalutaing model: XGBClassifier\n",
      "2024-02-27 23:07:33.582870 Logging: XGBClassifier\n",
      "2024-02-27 23:07:33.584816 Model XGBClassifier has been trained for configuration data SMOTE.\n",
      "2024-02-27 23:07:33.590566 All combination models and configuration data has been trained.\n"
     ]
    }
   ],
   "source": [
    "list_of_trained_model, training_log = train_eval(\"Baseline\", params)"
   ]
  },
  {
   "cell_type": "markdown",
   "metadata": {},
   "source": [
    "### 4.3. Choose Best Performance Baseline Model"
   ]
  },
  {
   "cell_type": "code",
   "execution_count": 11,
   "metadata": {},
   "outputs": [],
   "source": [
    "def get_production_model(list_of_model, training_log, params):\n",
    "    # Create copy list of model\n",
    "    list_of_model = copy.deepcopy(list_of_model)\n",
    "    \n",
    "    # Debug message\n",
    "    util.print_debug(\"Choosing model by metrics score.\")\n",
    "\n",
    "    # Create required predefined variabel\n",
    "    curr_production_model = None\n",
    "    prev_production_model = None\n",
    "    production_model_log = None\n",
    "\n",
    "    # Debug message\n",
    "    util.print_debug(\"Converting training log type of data from dict to dataframe.\")\n",
    "\n",
    "    # Convert dictionary to pandas for easy operation\n",
    "    training_log = pd.DataFrame(copy.deepcopy(training_log))\n",
    "\n",
    "    # Debug message\n",
    "    util.print_debug(\"Trying to load previous production model.\")\n",
    "\n",
    "    # Check if there is a previous production model\n",
    "    try:\n",
    "        prev_production_model = util.pickle_load(params[\"production_model_path\"])\n",
    "        util.print_debug(\"Previous production model loaded.\")\n",
    "\n",
    "    except FileNotFoundError as fe:\n",
    "        util.print_debug(\"No previous production model detected, choosing best model only from current trained model.\")\n",
    "\n",
    "    # If previous production model detected:\n",
    "    if prev_production_model != None:\n",
    "        # Debug message\n",
    "        util.print_debug(\"Loading validation data.\")\n",
    "        x_valid, y_valid = load_valid_feng(params)\n",
    "        \n",
    "        # Debug message\n",
    "        util.print_debug(\"Checking compatibilty previous production model's input with current train data's features.\")\n",
    "\n",
    "        # Check list features of previous production model and current dataset\n",
    "        production_model_features = set(prev_production_model[\"model_data\"][\"model_object\"].feature_names_in_)\n",
    "        current_dataset_features = set(x_valid.columns)\n",
    "        number_of_different_features = len((production_model_features - current_dataset_features) | (current_dataset_features - production_model_features))\n",
    "\n",
    "        # If feature matched:\n",
    "        if number_of_different_features == 0:\n",
    "            # Debug message\n",
    "            util.print_debug(\"Features compatible.\")\n",
    "\n",
    "            # Debug message\n",
    "            util.print_debug(\"Reassesing previous model performance using current validation data.\")\n",
    "\n",
    "            # Re-predict previous production model to provide valid metrics compared to other current models\n",
    "            y_pred = prev_production_model[\"model_data\"][\"model_object\"].predict(x_valid)\n",
    "\n",
    "            # Re-asses prediction result\n",
    "            eval_res = classification_report(y_valid, y_pred, output_dict = True)\n",
    "\n",
    "            # Debug message\n",
    "            util.print_debug(\"Assessing complete.\")\n",
    "\n",
    "            # Debug message\n",
    "            util.print_debug(\"Storing new metrics data to previous model structure.\")\n",
    "\n",
    "            # Update their performance log\n",
    "            prev_production_model[\"model_log\"][\"performance\"] = eval_res\n",
    "            prev_production_model[\"model_log\"][\"f1_score_avg\"] = eval_res[\"macro avg\"][\"f1-score\"]\n",
    "\n",
    "            # Debug message\n",
    "            util.print_debug(\"Adding previous model data to current training log and list of model\")\n",
    "\n",
    "            # Added previous production model log to current logs to compere who has the greatest f1 score\n",
    "            training_log = pd.concat([training_log, pd.DataFrame([prev_production_model[\"model_log\"]])])\n",
    "\n",
    "            # Added previous production model to current list of models to choose from if it has the greatest f1 score\n",
    "            list_of_model[\"prev_production_model\"] = [copy.deepcopy(prev_production_model[\"model_data\"])]\n",
    "        else:\n",
    "            # To indicate that we are not using previous production model\n",
    "            prev_production_model = None\n",
    "\n",
    "            # Debug message\n",
    "            util.print_debug(\"Different features between production model with current dataset is detected, ignoring production dataset.\")\n",
    "\n",
    "    # Debug message\n",
    "    util.print_debug(\"Sorting training log by f1 macro avg and training time.\")\n",
    "\n",
    "    # Sort training log by f1 score macro avg and trining time\n",
    "    best_model_log = training_log.sort_values([\"f1_score_avg\", \"training_time\"], ascending = [False, True]).iloc[0]\n",
    "    \n",
    "    # Debug message\n",
    "    util.print_debug(\"Searching model data based on sorted training log.\")\n",
    "\n",
    "    # Get model object with greatest f1 score macro avg by using UID\n",
    "    for configuration_data in list_of_model:\n",
    "        for model_data in list_of_model[configuration_data]:\n",
    "            if model_data[\"model_uid\"] == best_model_log[\"model_uid\"]:\n",
    "                curr_production_model = dict()\n",
    "                curr_production_model[\"model_data\"] = copy.deepcopy(model_data)\n",
    "                curr_production_model[\"model_log\"] = copy.deepcopy(best_model_log.to_dict())\n",
    "                curr_production_model[\"model_log\"][\"model_name\"] = \"Production-{}\".format(curr_production_model[\"model_data\"][\"model_name\"])\n",
    "                curr_production_model[\"model_log\"][\"training_date\"] = str(curr_production_model[\"model_log\"][\"training_date\"])\n",
    "                production_model_log = training_log_updater(curr_production_model[\"model_log\"], params)\n",
    "                break\n",
    "    \n",
    "    # In case UID not found\n",
    "    if curr_production_model == None:\n",
    "        raise RuntimeError(\"The best model not found in your list of model.\")\n",
    "    \n",
    "    # Debug message\n",
    "    util.print_debug(\"Model chosen.\")\n",
    "\n",
    "    # Dump chosen production model\n",
    "    util.pickle_dump(curr_production_model, params[\"production_model_path\"])\n",
    "    \n",
    "    # Return current chosen production model, log of production models and current training log\n",
    "    return curr_production_model, production_model_log, training_log\n",
    "    "
   ]
  },
  {
   "cell_type": "code",
   "execution_count": 12,
   "metadata": {},
   "outputs": [
    {
     "name": "stdout",
     "output_type": "stream",
     "text": [
      "2024-02-27 23:07:33.626796 Choosing model by metrics score.\n",
      "2024-02-27 23:07:33.626891 Converting training log type of data from dict to dataframe.\n",
      "2024-02-27 23:07:33.627814 Trying to load previous production model.\n",
      "2024-02-27 23:07:33.629486 Previous production model loaded.\n",
      "2024-02-27 23:07:33.629508 Loading validation data.\n",
      "2024-02-27 23:07:33.630380 Checking compatibilty previous production model's input with current train data's features.\n",
      "2024-02-27 23:07:33.630446 Features compatible.\n",
      "2024-02-27 23:07:33.630452 Reassesing previous model performance using current validation data.\n",
      "2024-02-27 23:07:33.635499 Assessing complete.\n",
      "2024-02-27 23:07:33.635517 Storing new metrics data to previous model structure.\n",
      "2024-02-27 23:07:33.635524 Adding previous model data to current training log and list of model\n",
      "2024-02-27 23:07:33.638715 Sorting training log by f1 macro avg and training time.\n",
      "2024-02-27 23:07:33.639452 Searching model data based on sorted training log.\n",
      "2024-02-27 23:07:33.642212 Model chosen.\n"
     ]
    }
   ],
   "source": [
    "model, production_model_log, training_logs = get_production_model(list_of_trained_model, training_log, params)"
   ]
  },
  {
   "cell_type": "markdown",
   "metadata": {},
   "source": [
    "## 5. Hyperparameter Tuning"
   ]
  },
  {
   "cell_type": "code",
   "execution_count": 13,
   "metadata": {},
   "outputs": [],
   "source": [
    "def create_dist_params(model_name: str) -> dict:\n",
    "    # Define models paramteres\n",
    "    dist_params_xgb = {\n",
    "        \"n_estimators\" : [50, 100, 200, 300, 400, 500]\n",
    "    }\n",
    "    dist_params_dct = {\n",
    "        \"algorithm\" : [\"gini\", \"entropy\", \"log_loss\"],\n",
    "        \"min_sample_split\" : [1, 2, 4, 6, 10, 15, 20, 25],\n",
    "        \"min_sample_leaf\" : [1, 2, 4, 6, 10, 15, 20, 25]\n",
    "    }\n",
    "    dist_params_knn = {\n",
    "        \"creterion\" : [\"ball_tree\", \"kd_tree\", \"brute\"],\n",
    "        \"n_neighbors\" : [2, 3, 4, 5, 6, 10, 15, 20, 25],\n",
    "        \"leaf_size\" : [2, 3, 4, 5, 6, 10, 15, 20, 25],\n",
    "    }\n",
    "    dist_params_lgr = {\n",
    "        \"penalty\" : [\"l1\", \"l2\", \"elasticnet\", \"none\"],\n",
    "        \"C\" : [0.01, 0.05, 0.10, 0.15, 0.20, 0.30, 0.60, 0.90, 1],\n",
    "        \"solver\" : [\"saga\"],\n",
    "        \"max_iter\" : [100, 200, 300, 400, 500, 600, 700, 800, 900, 1000]\n",
    "    }\n",
    "    dist_params_rfc = {\n",
    "        \"algorithm\" : [\"gini\", \"entropy\", \"log_loss\"],\n",
    "        \"n_estimators\" : [50, 100, 200, 300, 400, 500],\n",
    "        \"min_sample_split\" : [1, 2, 4, 6, 10, 15, 20, 25],\n",
    "        \"min_sample_leaf\" : [1, 2, 4, 6, 10, 15, 20, 25]\n",
    "    }\n",
    "\n",
    "    # Make all models parameters in to one\n",
    "    dist_params = {\n",
    "        \"XGBClassifier\": dist_params_xgb,\n",
    "        \"DecisionTreeClassifier\": dist_params_dct,\n",
    "        \"KNeighborsClassifier\": dist_params_knn,\n",
    "        \"LogisticRegression\": dist_params_lgr,\n",
    "        \"RandomForestClassifier\": dist_params_rfc\n",
    "    }\n",
    "\n",
    "    # Return distribution of model parameters\n",
    "    return dist_params[model_name]"
   ]
  },
  {
   "cell_type": "code",
   "execution_count": 14,
   "metadata": {},
   "outputs": [],
   "source": [
    "def hyper_params_tuning(model: dict) -> list:\n",
    "    # Create copy of current best baseline model\n",
    "    model = copy.deepcopy(model)\n",
    "\n",
    "    # Create model's parameter distribution\n",
    "    dist_params = create_dist_params(model[\"model_data\"][\"model_name\"])\n",
    "\n",
    "    # Create model object\n",
    "    model_rsc = RandomizedSearchCV(model[\"model_data\"][\"model_object\"], dist_params, n_jobs = -1)\n",
    "    model_data = {\n",
    "        \"model_name\": model[\"model_data\"][\"model_name\"],\n",
    "        \"model_object\": model_rsc,\n",
    "        \"model_uid\": \"\"\n",
    "    }\n",
    "    \n",
    "    # Return model object\n",
    "    return [model_data]"
   ]
  },
  {
   "cell_type": "code",
   "execution_count": 15,
   "metadata": {},
   "outputs": [
    {
     "name": "stdout",
     "output_type": "stream",
     "text": [
      "2024-02-27 23:07:33.660075 Loading dataset.\n",
      "2024-02-27 23:07:33.664571 Dataset loaded.\n",
      "2024-02-27 23:07:33.664593 Creating training log template.\n",
      "2024-02-27 23:07:33.664598 Training log template created.\n",
      "2024-02-27 23:07:33.664605 Training model based on configuration data: No sampling\n",
      "2024-02-27 23:07:33.666809 Training model: XGBClassifier\n"
     ]
    },
    {
     "name": "stderr",
     "output_type": "stream",
     "text": [
      "/Users/iqbalrahmadhan/ml_project/emp_turnover_predictor/venv_emp_turnover/lib/python3.11/site-packages/sklearn/model_selection/_search.py:318: UserWarning: The total space of parameters 6 is smaller than n_iter=10. Running 6 iterations. For exhaustive searches, use GridSearchCV.\n",
      "  warnings.warn(\n"
     ]
    },
    {
     "name": "stdout",
     "output_type": "stream",
     "text": [
      "2024-02-27 23:07:35.153143 Evalutaing model: XGBClassifier\n",
      "2024-02-27 23:07:35.158523 Logging: XGBClassifier\n",
      "2024-02-27 23:07:35.176656 Model XGBClassifier has been trained for configuration data No sampling.\n",
      "2024-02-27 23:07:35.186930 Training model based on configuration data: Undersampling\n",
      "2024-02-27 23:07:35.189422 Training model: XGBClassifier\n"
     ]
    },
    {
     "name": "stderr",
     "output_type": "stream",
     "text": [
      "/Users/iqbalrahmadhan/ml_project/emp_turnover_predictor/venv_emp_turnover/lib/python3.11/site-packages/sklearn/model_selection/_search.py:318: UserWarning: The total space of parameters 6 is smaller than n_iter=10. Running 6 iterations. For exhaustive searches, use GridSearchCV.\n",
      "  warnings.warn(\n"
     ]
    },
    {
     "name": "stdout",
     "output_type": "stream",
     "text": [
      "2024-02-27 23:07:35.495734 Evalutaing model: XGBClassifier\n",
      "2024-02-27 23:07:35.499834 Logging: XGBClassifier\n",
      "2024-02-27 23:07:35.502805 Model XGBClassifier has been trained for configuration data Undersampling.\n",
      "2024-02-27 23:07:35.505729 Training model based on configuration data: Oversampling\n",
      "2024-02-27 23:07:35.507635 Training model: XGBClassifier\n"
     ]
    },
    {
     "name": "stderr",
     "output_type": "stream",
     "text": [
      "/Users/iqbalrahmadhan/ml_project/emp_turnover_predictor/venv_emp_turnover/lib/python3.11/site-packages/sklearn/model_selection/_search.py:318: UserWarning: The total space of parameters 6 is smaller than n_iter=10. Running 6 iterations. For exhaustive searches, use GridSearchCV.\n",
      "  warnings.warn(\n"
     ]
    },
    {
     "name": "stdout",
     "output_type": "stream",
     "text": [
      "2024-02-27 23:07:36.070231 Evalutaing model: XGBClassifier\n",
      "2024-02-27 23:07:36.074297 Logging: XGBClassifier\n",
      "2024-02-27 23:07:36.079850 Model XGBClassifier has been trained for configuration data Oversampling.\n",
      "2024-02-27 23:07:36.085190 Training model based on configuration data: SMOTE\n",
      "2024-02-27 23:07:36.087398 Training model: XGBClassifier\n"
     ]
    },
    {
     "name": "stderr",
     "output_type": "stream",
     "text": [
      "/Users/iqbalrahmadhan/ml_project/emp_turnover_predictor/venv_emp_turnover/lib/python3.11/site-packages/sklearn/model_selection/_search.py:318: UserWarning: The total space of parameters 6 is smaller than n_iter=10. Running 6 iterations. For exhaustive searches, use GridSearchCV.\n",
      "  warnings.warn(\n"
     ]
    },
    {
     "name": "stdout",
     "output_type": "stream",
     "text": [
      "2024-02-27 23:07:36.651042 Evalutaing model: XGBClassifier\n",
      "2024-02-27 23:07:36.654752 Logging: XGBClassifier\n",
      "2024-02-27 23:07:36.657946 Model XGBClassifier has been trained for configuration data SMOTE.\n",
      "2024-02-27 23:07:36.661263 All combination models and configuration data has been trained.\n"
     ]
    }
   ],
   "source": [
    "list_of_trained_model, training_log = train_eval(\"Hyperparams_Tuning\", params, hyper_params_tuning(model))"
   ]
  },
  {
   "cell_type": "code",
   "execution_count": 16,
   "metadata": {},
   "outputs": [
    {
     "name": "stdout",
     "output_type": "stream",
     "text": [
      "2024-02-27 23:07:36.693480 Choosing model by metrics score.\n",
      "2024-02-27 23:07:36.693574 Converting training log type of data from dict to dataframe.\n",
      "2024-02-27 23:07:36.694478 Trying to load previous production model.\n",
      "2024-02-27 23:07:36.695871 Previous production model loaded.\n",
      "2024-02-27 23:07:36.695879 Loading validation data.\n",
      "2024-02-27 23:07:36.696467 Checking compatibilty previous production model's input with current train data's features.\n",
      "2024-02-27 23:07:36.696518 Features compatible.\n",
      "2024-02-27 23:07:36.696524 Reassesing previous model performance using current validation data.\n",
      "2024-02-27 23:07:36.700708 Assessing complete.\n",
      "2024-02-27 23:07:36.700724 Storing new metrics data to previous model structure.\n",
      "2024-02-27 23:07:36.700731 Adding previous model data to current training log and list of model\n",
      "2024-02-27 23:07:36.703693 Sorting training log by f1 macro avg and training time.\n",
      "2024-02-27 23:07:36.704289 Searching model data based on sorted training log.\n",
      "2024-02-27 23:07:36.706977 Model chosen.\n"
     ]
    }
   ],
   "source": [
    "model, production_model_log, training_logs = get_production_model(list_of_trained_model, training_log, params)"
   ]
  },
  {
   "cell_type": "code",
   "execution_count": 17,
   "metadata": {},
   "outputs": [
    {
     "data": {
      "text/plain": [
       "{'model_data': {'model_name': 'XGBClassifier',\n",
       "  'model_object': XGBClassifier(base_score=None, booster=None, callbacks=None,\n",
       "                colsample_bylevel=None, colsample_bynode=None,\n",
       "                colsample_bytree=None, device=None, early_stopping_rounds=None,\n",
       "                enable_categorical=False, eval_metric=None, feature_types=None,\n",
       "                gamma=None, grow_policy=None, importance_type=None,\n",
       "                interaction_constraints=None, learning_rate=None, max_bin=None,\n",
       "                max_cat_threshold=None, max_cat_to_onehot=None,\n",
       "                max_delta_step=None, max_depth=None, max_leaves=None,\n",
       "                min_child_weight=None, missing=nan, monotone_constraints=None,\n",
       "                multi_strategy=None, n_estimators=None, n_jobs=None,\n",
       "                num_parallel_tree=None, random_state=None, ...),\n",
       "  'model_uid': '55df79ddc4b1cd738482c02c5f758a76'},\n",
       " 'model_log': {'model_name': 'Production-XGBClassifier',\n",
       "  'model_uid': '55df79ddc4b1cd738482c02c5f758a76',\n",
       "  'training_time': 0.218471,\n",
       "  'training_date': '2024-02-27 23:07:33.582894',\n",
       "  'performance': {'0': {'precision': 0.8865979381443299,\n",
       "    'recall': 0.9297297297297298,\n",
       "    'f1-score': 0.9076517150395779,\n",
       "    'support': 185.0},\n",
       "   '1': {'precision': 0.5,\n",
       "    'recall': 0.37142857142857144,\n",
       "    'f1-score': 0.4262295081967213,\n",
       "    'support': 35.0},\n",
       "   'accuracy': 0.8409090909090909,\n",
       "   'macro avg': {'precision': 0.6932989690721649,\n",
       "    'recall': 0.6505791505791506,\n",
       "    'f1-score': 0.6669406116181495,\n",
       "    'support': 220.0},\n",
       "   'weighted avg': {'precision': 0.8250937207122773,\n",
       "    'recall': 0.8409090909090909,\n",
       "    'f1-score': 0.8310618184963962,\n",
       "    'support': 220.0}},\n",
       "  'f1_score_avg': 0.6669406116181495,\n",
       "  'data_configurations': 'SMOTE'}}"
      ]
     },
     "execution_count": 17,
     "metadata": {},
     "output_type": "execute_result"
    }
   ],
   "source": [
    "model"
   ]
  },
  {
   "cell_type": "markdown",
   "metadata": {},
   "source": [
    "## 6. Take a Look at Confusion Matrix"
   ]
  },
  {
   "cell_type": "code",
   "execution_count": 18,
   "metadata": {},
   "outputs": [],
   "source": [
    "x_valid, y_valid = load_valid_feng(params)"
   ]
  },
  {
   "cell_type": "code",
   "execution_count": 19,
   "metadata": {},
   "outputs": [],
   "source": [
    "y_pred = model[\"model_data\"][\"model_object\"].predict(x_valid)"
   ]
  },
  {
   "cell_type": "code",
   "execution_count": 20,
   "metadata": {},
   "outputs": [
    {
     "data": {
      "text/plain": [
       "<sklearn.metrics._plot.confusion_matrix.ConfusionMatrixDisplay at 0x298e6c410>"
      ]
     },
     "execution_count": 20,
     "metadata": {},
     "output_type": "execute_result"
    },
    {
     "data": {
      "image/png": "[encoded data removed]",
      "text/plain": [
       "<Figure size 640x480 with 2 Axes>"
      ]
     },
     "metadata": {},
     "output_type": "display_data"
    }
   ],
   "source": [
    "ConfusionMatrixDisplay.from_predictions(y_valid, y_pred)"
   ]
  },
  {
   "cell_type": "code",
   "execution_count": null,
   "metadata": {},
   "outputs": [],
   "source": []
  }
 ],
 "metadata": {
  "kernelspec": {
   "display_name": "Python 3 (ipykernel)",
   "language": "python",
   "name": "python3"
  },
  "language_info": {
   "codemirror_mode": {
    "name": "ipython",
    "version": 3
   },
   "file_extension": ".py",
   "mimetype": "text/x-python",
   "name": "python",
   "nbconvert_exporter": "python",
   "pygments_lexer": "ipython3",
   "version": "3.11.4"
  },
  "vscode": {
   "interpreter": {
    "hash": "f6b5ba345f865ccab9c1d1dba86e394ca61d67366183ce7e182371ee31a721f6"
   }
  }
 },
 "nbformat": 4,
 "nbformat_minor": 4
}
